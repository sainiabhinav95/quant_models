{
 "cells": [
  {
   "cell_type": "markdown",
   "metadata": {},
   "source": [
    "In this notebook, we construct the US Tresury Yield curve from the data provided by the US Dept. of Treasury. \n",
    "Please refer to the link below:\n",
    "https://home.treasury.gov/resource-center/data-chart-center/interest-rates/TextView?type=daily_treasury_yield_curve&field_tdr_date_value_month=202405\n",
    "\n",
    "UST provide par yields (also called CMT rates) in their data set. This makes the bootstrapping a bit tricky since we will have to construct hypothetical bonds and then use QuantLib's classes to construct the yield curve.\n",
    "\n",
    "References:\n",
    "1. UST Dept of Treasury website (https://home.treasury.gov/)\n",
    "2. QuantLib Documentation & Cookbook"
   ]
  },
  {
   "cell_type": "code",
   "execution_count": 10,
   "metadata": {},
   "outputs": [],
   "source": [
    "import QuantLib as ql\n",
    "import numpy as np\n",
    "import matplotlib.pyplot as plt\n",
    "import requests\n",
    "import xml.etree.ElementTree as ET\n",
    "from datetime import datetime"
   ]
  },
  {
   "cell_type": "code",
   "execution_count": 41,
   "metadata": {},
   "outputs": [],
   "source": [
    "class USTsyYieldCurve:\n",
    "    def __init__(self, date: ql.Date) -> None:\n",
    "        self.as_of_date = date\n",
    "        self.api_str = f\"{self.as_of_date.year()}{self.as_of_date.month():02d}\"\n",
    "        self.api_url = f\"https://home.treasury.gov/resource-center/data-chart-center/interest-rates/pages/xml?data=daily_treasury_yield_curve&field_tdr_date_value_month={self.api_str}\"\n",
    "        self.raw_data = {}\n",
    "        self.par_yields = self.get_raw_xml_data()\n",
    "        if self.raw_data is not None:\n",
    "            print(\"Fetched raw data from USDT website!\")\n",
    "        else:\n",
    "            raise Exception(\"Error fetching data from USDT website!\")\n",
    "\n",
    "    def get_raw_xml_data(self):\n",
    "        response = requests.get(self.api_url)\n",
    "\n",
    "        if response.status_code == 200:\n",
    "\n",
    "            # Parse the XML content\n",
    "            root = ET.fromstring(response.content)\n",
    "\n",
    "            # Define namespaces\n",
    "            namespaces = {\n",
    "                'atom': 'http://www.w3.org/2005/Atom',\n",
    "                'm': 'http://schemas.microsoft.com/ado/2007/08/dataservices/metadata',\n",
    "                'd': 'http://schemas.microsoft.com/ado/2007/08/dataservices'\n",
    "            }\n",
    "\n",
    "            # Find all entry tags\n",
    "            entries = root.findall('.//atom:entry', namespaces)\n",
    "\n",
    "            # Iterate through each entry tag\n",
    "            for entry in entries:\n",
    "                # Find the properties inside content inside entry tags\n",
    "                content = entry.find('atom:content', namespaces)\n",
    "                properties = content.find('m:properties', namespaces)\n",
    "                if properties is not None:\n",
    "                    # Iterate through each property\n",
    "                    # Extract the NEW_DATE property and convert it to a datetime object\n",
    "                    new_date_str = properties.find('d:NEW_DATE', namespaces).text\n",
    "                    new_date = datetime.strptime(new_date_str, \"%Y-%m-%dT%H:%M:%S\")\n",
    "\n",
    "                    if ql.Date(new_date.day, new_date.month, new_date.year) == self.as_of_date:\n",
    "                        for prop in properties:\n",
    "                            if (prop.tag.startswith('{http://schemas.microsoft.com/ado/2007/08/dataservices}BC_') \n",
    "                            and prop.tag != '{http://schemas.microsoft.com/ado/2007/08/dataservices}BC_30YEARDISPLAY'):\n",
    "                                tag = prop.tag.split('}')[1]  # Remove namespace from the tag\n",
    "                                period_str = tag.split(\"BC_\")[1].replace(\"MONTH\",\"M\").replace(\"YEAR\",\"Y\")\n",
    "                                ql_period = ql.Period(period_str)\n",
    "                                raw_yield = ql.SimpleQuote(float(prop.text))\n",
    "                                self.raw_data.update({ql_period:raw_yield})                \n",
    "\n",
    "        else:\n",
    "            print(\"Failed to fetch XML data. Status code:\", response.status_code)\n",
    "        \n",
    "    \n"
   ]
  },
  {
   "cell_type": "code",
   "execution_count": 43,
   "metadata": {},
   "outputs": [
    {
     "name": "stdout",
     "output_type": "stream",
     "text": [
      "{}\n"
     ]
    }
   ],
   "source": [
    "# Fetch data and build the yield curve\n",
    "as_of_date = ql.Date(20, 5, 2024)\n",
    "us_yield_curve = USTsyYieldCurve(date=as_of_date)\n",
    "\n",
    "\n"
   ]
  }
 ],
 "metadata": {
  "kernelspec": {
   "display_name": "Python 3",
   "language": "python",
   "name": "python3"
  },
  "language_info": {
   "codemirror_mode": {
    "name": "ipython",
    "version": 3
   },
   "file_extension": ".py",
   "mimetype": "text/x-python",
   "name": "python",
   "nbconvert_exporter": "python",
   "pygments_lexer": "ipython3",
   "version": "3.10.12"
  }
 },
 "nbformat": 4,
 "nbformat_minor": 2
}
